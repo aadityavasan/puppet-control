{
 "cells": [
  {
   "cell_type": "markdown",
   "metadata": {},
   "source": [
    "# Blog Post: Understand Database Systems in Simple Ways"
   ]
  },
  {
   "cell_type": "markdown",
   "metadata": {},
   "source": [
    "## Motivation"
   ]
  },
  {
   "cell_type": "markdown",
   "metadata": {},
   "source": [
    "As Big Data is getting hotter and hotter, more and more people will start working on the Big Data area. It is important to educate them about what cool techniques and ideas in the database community have been proposed in the past 50 years. Otherwise, they are doomed to reinvent the wheel. With such purpose in mind, I created this [blog](https://cmpt843-spring2018.blogspot.ca/). In this assignment, your job is to write a blog post to **introduce an important database technique or idea to the <u>general public</u>**. \n"
   ]
  },
  {
   "cell_type": "markdown",
   "metadata": {},
   "source": [
    "## Step-by-step Instruction"
   ]
  },
  {
   "cell_type": "markdown",
   "metadata": {},
   "source": [
    " ### 1. What to write?"
   ]
  },
  {
   "cell_type": "markdown",
   "metadata": {},
   "source": [
    "The first thing you need to do is to decide what to blog about. There are two kinds of topics you can choose from. \n",
    "\n",
    "One is to write about an important database technique. It can be any technique you've learned from my class or your undergrad database class. For example, Two-phase Locking, R-Tree, ARIES algorithm. But, remember that it has to be an influential technique. That is, it has to be either widely adopted in industry or come from a highly cited research paper.  \n",
    "\n",
    "The other is to write about a smart idea in database systems. There are so many beautiful ideas in database systems, such as Data Independence, Declarative Language, Robust Query Optimizer, Multi-granularity Locking. Please feel free to select an idea that impresses you the most. "
   ]
  },
  {
   "cell_type": "markdown",
   "metadata": {},
   "source": [
    "### 2. How to write?"
   ]
  },
  {
   "cell_type": "markdown",
   "metadata": {},
   "source": [
    "Remember that your target audience is the general public, who may have little CS background. Therefore, when deciding how to write your blog post, you should keep asking yourself the following two questions: \n",
    "\n",
    "* What can I do to make my blog post more attractive?\n",
    "* What can I do to make my blog post more easy to understand? \n",
    "\n",
    "For the first question, here are some tricks: (1) come up with an attractive blog title (see [this page](https://blog.hubspot.com/marketing/a-simple-formula-for-writing-kick-ass-titles-ht#sm.0000072w4nzrqmfn2vwd6y30afmyo) for some tips); (2) pay great attention to the first paragraph of your blog post (See [this page](https://problogger.com/10-tips-for-opening-your-next-blog-post/) for some tips); (2) add a couple of attractive images but make sure they are related to your blog post. \n",
    "\n",
    "For the second question, here are some tricks: (1) avoid using terminology (if you have to, please first explain them in simple words); (2) use examples and figures to illustrate complicate stuff; (3) leverage the power of analogies. \n",
    "\n",
    "As a test, answer these questions:\n",
    " * What if a kid asks you that \"If you fall into a black hole, where do you go?\"\n",
    " * What if your roommate majored in Biology asks you that \"Can you teach me how to write SQL in less than an hour?\" \n",
    " \n",
    "Make sure to first think about the answers by yourself, and then watch [this video](https://www.youtube.com/watch?v=3J7T1xxUn7M) and read this [blog post](http://www.sohamkamani.com/blog/2016/07/07/a-beginners-guide-to-sql/).  \n",
    "\n",
    "I hope everyone can use the opportunity to train the skill of blog writing. Such skill is increasingly important in both academia ([SIGMOD Blog](http://wp.sigmod.org/), [AMPLab Blog](https://amplab.cs.berkeley.edu/blog/)) and industry ([Databricks Blog](https://databricks.com/blog), [DBMS2 Blog](http://www.dbms2.com/), [ODBMS Blog](http://www.odbms.org/blog/)). "
   ]
  },
  {
   "cell_type": "markdown",
   "metadata": {},
   "source": [
    "### 3. How to submit?"
   ]
  },
  {
   "cell_type": "markdown",
   "metadata": {},
   "source": [
    "You have to submit your blog post to **two places**:\n",
    "\n",
    "1. Please write a blog post in [https://cmpt843-spring2018.blogspot.ca/](https://cmpt843-spring2018.blogspot.ca/). You should have recieved an invitation email from Blogger (CMPT843 - Spring Semester), giving you the permission of editing the blog. \n",
    "\n",
    "2. Please submit the URL of your blog post to the CourSys activity [Blog Post](https://coursys.sfu.ca/2018sp-cmpt-843-g1/+bp/)\n",
    "\n",
    "**Requirements**\n",
    "\n",
    "1. The length has to be 500-1000 words\n",
    "2. It is due on March 14 at midnight\n",
    "3. It's OK if you accidentally blog about the same topic as other students"
   ]
  }
 ],
 "metadata": {
  "kernelspec": {
   "display_name": "Python 3",
   "language": "python",
   "name": "python3"
  },
  "language_info": {
   "codemirror_mode": {
    "name": "ipython",
    "version": 3
   },
   "file_extension": ".py",
   "mimetype": "text/x-python",
   "name": "python",
   "nbconvert_exporter": "python",
   "pygments_lexer": "ipython3",
   "version": "3.6.1"
  }
 },
 "nbformat": 4,
 "nbformat_minor": 1
}
